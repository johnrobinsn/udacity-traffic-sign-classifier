{
 "cells": [
  {
   "cell_type": "markdown",
   "metadata": {},
   "source": [
    "# Self-Driving Car Engineer Nanodegree\n",
    "\n",
    "## Deep Learning\n",
    "\n",
    "## Project: Build a Traffic Sign Recognition Classifier\n",
    "\n",
    "In this notebook, a template is provided for you to implement your functionality in stages, which is required to successfully complete this project. If additional code is required that cannot be included in the notebook, be sure that the Python code is successfully imported and included in your submission if necessary. \n",
    "\n",
    "> **Note**: Once you have completed all of the code implementations, you need to finalize your work by exporting the iPython Notebook as an HTML document. Before exporting the notebook to html, all of the code cells need to have been run so that reviewers can see the final implementation and output. You can then export the notebook by using the menu above and navigating to  \\n\",\n",
    "    \"**File -> Download as -> HTML (.html)**. Include the finished document along with this notebook as your submission. \n",
    "\n",
    "In addition to implementing code, there is a writeup to complete. The writeup should be completed in a separate file, which can be either a markdown file or a pdf document. There is a [write up template](https://github.com/udacity/CarND-Traffic-Sign-Classifier-Project/blob/master/writeup_template.md) that can be used to guide the writing process. Completing the code template and writeup template will cover all of the [rubric points](https://review.udacity.com/#!/rubrics/481/view) for this project.\n",
    "\n",
    "The [rubric](https://review.udacity.com/#!/rubrics/481/view) contains \"Stand Out Suggestions\" for enhancing the project beyond the minimum requirements. The stand out suggestions are optional. If you decide to pursue the \"stand out suggestions\", you can include the code in this Ipython notebook and also discuss the results in the writeup file.\n",
    "\n",
    "\n",
    ">**Note:** Code and Markdown cells can be executed using the **Shift + Enter** keyboard shortcut. In addition, Markdown cells can be edited by typically double-clicking the cell to enter edit mode."
   ]
  },
  {
   "cell_type": "markdown",
   "metadata": {},
   "source": [
    "---\n",
    "## Step 0: Load The Data"
   ]
  },
  {
   "cell_type": "code",
   "execution_count": 28,
   "metadata": {},
   "outputs": [],
   "source": [
    "import numpy as np\n",
    "import random\n",
    "import math\n",
    "import cv2\n",
    "import matplotlib.pyplot as plt\n",
    "import matplotlib.image as mpimg\n",
    "%matplotlib inline"
   ]
  },
  {
   "cell_type": "code",
   "execution_count": 29,
   "metadata": {},
   "outputs": [],
   "source": [
    "# Load pickled data\n",
    "import pickle\n",
    "\n",
    "# TODO: Fill this in based on where you saved the training and testing data\n",
    "\n",
    "training_file = 'train.p'\n",
    "validation_file= 'valid.p'\n",
    "testing_file = 'test.p'\n",
    "\n",
    "with open(training_file, mode='rb') as f:\n",
    "    train = pickle.load(f)\n",
    "with open(validation_file, mode='rb') as f:\n",
    "    valid = pickle.load(f)\n",
    "with open(testing_file, mode='rb') as f:\n",
    "    test = pickle.load(f)\n",
    "    \n",
    "X_train, y_train = train['features'], train['labels']\n",
    "X_valid, y_valid = valid['features'], valid['labels']\n",
    "X_test, y_test = test['features'], test['labels']"
   ]
  },
  {
   "cell_type": "code",
   "execution_count": 30,
   "metadata": {},
   "outputs": [
    {
     "data": {
      "text/plain": [
       "34799"
      ]
     },
     "execution_count": 30,
     "metadata": {},
     "output_type": "execute_result"
    }
   ],
   "source": [
    "len(y_train)"
   ]
  },
  {
   "cell_type": "code",
   "execution_count": 31,
   "metadata": {},
   "outputs": [
    {
     "data": {
      "text/plain": [
       "4410"
      ]
     },
     "execution_count": 31,
     "metadata": {},
     "output_type": "execute_result"
    }
   ],
   "source": [
    "len(y_valid)"
   ]
  },
  {
   "cell_type": "code",
   "execution_count": 32,
   "metadata": {},
   "outputs": [
    {
     "data": {
      "text/plain": [
       "12630"
      ]
     },
     "execution_count": 32,
     "metadata": {},
     "output_type": "execute_result"
    }
   ],
   "source": [
    "len(y_test)"
   ]
  },
  {
   "cell_type": "code",
   "execution_count": 33,
   "metadata": {},
   "outputs": [
    {
     "data": {
      "text/plain": [
       "0.24363895908485889"
      ]
     },
     "execution_count": 33,
     "metadata": {},
     "output_type": "execute_result"
    }
   ],
   "source": [
    "#fraction of test data to all data\n",
    "len(y_test)/(len(y_train)+len(y_valid)+len(y_test))"
   ]
  },
  {
   "cell_type": "code",
   "execution_count": 34,
   "metadata": {},
   "outputs": [
    {
     "data": {
      "text/plain": [
       "0.11247417684715244"
      ]
     },
     "execution_count": 34,
     "metadata": {},
     "output_type": "execute_result"
    }
   ],
   "source": [
    "#fraction of validation data to train data + validation data\n",
    "len(y_valid)/(len(y_train)+len(y_valid))"
   ]
  },
  {
   "cell_type": "markdown",
   "metadata": {},
   "source": [
    "---\n",
    "\n",
    "## Step 1: Dataset Summary & Exploration\n",
    "\n",
    "The pickled data is a dictionary with 4 key/value pairs:\n",
    "\n",
    "- `'features'` is a 4D array containing raw pixel data of the traffic sign images, (num examples, width, height, channels).\n",
    "- `'labels'` is a 1D array containing the label/class id of the traffic sign. The file `signnames.csv` contains id -> name mappings for each id.\n",
    "- `'sizes'` is a list containing tuples, (width, height) representing the original width and height the image.\n",
    "- `'coords'` is a list containing tuples, (x1, y1, x2, y2) representing coordinates of a bounding box around the sign in the image. **THESE COORDINATES ASSUME THE ORIGINAL IMAGE. THE PICKLED DATA CONTAINS RESIZED VERSIONS (32 by 32) OF THESE IMAGES**\n",
    "\n",
    "Complete the basic data summary below. Use python, numpy and/or pandas methods to calculate the data summary rather than hard coding the results. For example, the [pandas shape method](http://pandas.pydata.org/pandas-docs/stable/generated/pandas.DataFrame.shape.html) might be useful for calculating some of the summary results. "
   ]
  },
  {
   "cell_type": "markdown",
   "metadata": {},
   "source": [
    "## Import Human Readable Labels\n",
    "Load into array signnames"
   ]
  },
  {
   "cell_type": "code",
   "execution_count": 35,
   "metadata": {},
   "outputs": [],
   "source": [
    "import csv\n",
    "with open('signnames.csv') as d:\n",
    "    signnames = [r[1] for r in list(csv.reader(d))[1:]]"
   ]
  },
  {
   "cell_type": "markdown",
   "metadata": {},
   "source": [
    "### Provide a Basic Summary of the Data Set Using Python, Numpy and/or Pandas"
   ]
  },
  {
   "cell_type": "code",
   "execution_count": 36,
   "metadata": {},
   "outputs": [
    {
     "data": {
      "text/plain": [
       "(34799, 32, 32, 3)"
      ]
     },
     "execution_count": 36,
     "metadata": {},
     "output_type": "execute_result"
    }
   ],
   "source": [
    "train['features'].shape"
   ]
  },
  {
   "cell_type": "code",
   "execution_count": 37,
   "metadata": {},
   "outputs": [
    {
     "data": {
      "text/plain": [
       "43"
      ]
     },
     "execution_count": 37,
     "metadata": {},
     "output_type": "execute_result"
    }
   ],
   "source": [
    "import numpy as np\n",
    "len(np.unique(train['labels']))"
   ]
  },
  {
   "cell_type": "code",
   "execution_count": 38,
   "metadata": {},
   "outputs": [
    {
     "name": "stdout",
     "output_type": "stream",
     "text": [
      "Number of training examples = 34799\n",
      "Number of testing examples = 12630\n",
      "Image data shape = (32, 32)\n",
      "Number of classes = 43\n"
     ]
    }
   ],
   "source": [
    "### Replace each question mark with the appropriate value. \n",
    "### Use python, pandas or numpy methods rather than hard coding the results\n",
    "\n",
    "# TODO: Number of training examples\n",
    "n_train = train['features'].shape[0]\n",
    "\n",
    "# TODO: Number of validation examples\n",
    "n_validation = valid['features'].shape[0]\n",
    "\n",
    "# TODO: Number of testing examples.\n",
    "n_test = test['features'].shape[0]\n",
    "\n",
    "# TODO: What's the shape of an traffic sign image?\n",
    "image_shape = (train['features'].shape[1],train['features'].shape[2])\n",
    "\n",
    "# TODO: How many unique classes/labels there are in the dataset.\n",
    "n_classes = len(np.unique(train['labels']))\n",
    "\n",
    "print(\"Number of training examples =\", n_train)\n",
    "print(\"Number of testing examples =\", n_test)\n",
    "print(\"Image data shape =\", image_shape)\n",
    "print(\"Number of classes =\", n_classes)"
   ]
  },
  {
   "cell_type": "markdown",
   "metadata": {},
   "source": [
    "\n",
    "### Include an exploratory visualization of the dataset"
   ]
  },
  {
   "cell_type": "markdown",
   "metadata": {},
   "source": [
    "Visualize the German Traffic Signs Dataset using the pickled file(s). This is open ended, suggestions include: plotting traffic sign images, plotting the count of each sign, etc. \n",
    "\n",
    "The [Matplotlib](http://matplotlib.org/) [examples](http://matplotlib.org/examples/index.html) and [gallery](http://matplotlib.org/gallery.html) pages are a great resource for doing visualizations in Python.\n",
    "\n",
    "**NOTE:** It's recommended you start with something simple first. If you wish to do more, come back to it after you've completed the rest of the sections. It can be interesting to look at the distribution of classes in the training, validation and test set. Is the distribution the same? Are there more examples of some classes than others?"
   ]
  },
  {
   "cell_type": "code",
   "execution_count": 39,
   "metadata": {},
   "outputs": [],
   "source": [
    "### Data exploration visualization code goes here.\n",
    "### Feel free to use as many code cells as needed."
   ]
  },
  {
   "cell_type": "code",
   "execution_count": 40,
   "metadata": {
    "scrolled": false
   },
   "outputs": [
    {
     "data": {
      "image/png": "[encoded data removed]",
      "text/plain": [
       "<matplotlib.figure.Figure at 0x7f349adaa6a0>"
      ]
     },
     "metadata": {
      "needs_background": "light"
     },
     "output_type": "display_data"
    },
    {
     "data": {
      "image/png": "[encoded data removed]",
      "text/plain": [
       "<matplotlib.figure.Figure at 0x7f349ae0afd0>"
      ]
     },
     "metadata": {
      "needs_background": "light"
     },
     "output_type": "display_data"
    },
    {
     "data": {
      "image/png": "[encoded data removed]",
      "text/plain": [
       "<matplotlib.figure.Figure at 0x7f349acc6eb8>"
      ]
     },
     "metadata": {
      "needs_background": "light"
     },
     "output_type": "display_data"
    },
    {
     "data": {
      "image/png": "[encoded data removed]",
      "text/plain": [
       "<matplotlib.figure.Figure at 0x7f349acf2198>"
      ]
     },
     "metadata": {
      "needs_background": "light"
     },
     "output_type": "display_data"
    },
    {
     "data": {
      "image/png": "[encoded data removed]",
      "text/plain": [
       "<matplotlib.figure.Figure at 0x7f349ac90da0>"
      ]
     },
     "metadata": {
      "needs_background": "light"
     },
     "output_type": "display_data"
    }
   ],
   "source": [
    "for i in range(5):\n",
    "    index = random.randint(0,len(X_train))\n",
    "    img = X_train[index]\n",
    "    lab = y_train[index]\n",
    "    plt.title(signnames[lab] + \" \" + str(index))\n",
    "    plt.imshow(img)\n",
    "    plt.show()"
   ]
  },
  {
   "cell_type": "markdown",
   "metadata": {},
   "source": [
    "## Analyze the label distribution within each dataset"
   ]
  },
  {
   "cell_type": "code",
   "execution_count": 41,
   "metadata": {},
   "outputs": [
    {
     "data": {
      "image/png": "[encoded data removed]",
      "text/plain": [
       "<matplotlib.figure.Figure at 0x7f349ac9d470>"
      ]
     },
     "metadata": {
      "needs_background": "light"
     },
     "output_type": "display_data"
    },
    {
     "data": {
      "image/png": "[encoded data removed]",
      "text/plain": [
       "<matplotlib.figure.Figure at 0x7f349ac83668>"
      ]
     },
     "metadata": {
      "needs_background": "light"
     },
     "output_type": "display_data"
    },
    {
     "data": {
      "image/png": "[encoded data removed]",
      "text/plain": [
       "<matplotlib.figure.Figure at 0x7f349ad80278>"
      ]
     },
     "metadata": {
      "needs_background": "light"
     },
     "output_type": "display_data"
    }
   ],
   "source": [
    "unique_train, counts_train = np.unique(y_train, return_counts=True)\n",
    "plt.bar(unique_train, counts_train)\n",
    "plt.grid()\n",
    "plt.title(\"Train Dataset Sign Counts\")\n",
    "plt.show()\n",
    "\n",
    "unique_valid, counts_valid = np.unique(y_valid, return_counts=True)\n",
    "plt.bar(unique_valid, counts_valid)\n",
    "plt.grid()\n",
    "plt.title(\"Valid Dataset Sign Counts\")\n",
    "plt.show()\n",
    "\n",
    "unique_test, counts_test = np.unique(y_test, return_counts=True)\n",
    "plt.bar(unique_test, counts_test)\n",
    "plt.grid()\n",
    "plt.title(\"Test Dataset Sign Counts\")\n",
    "plt.show()"
   ]
  },
  {
   "cell_type": "markdown",
   "metadata": {},
   "source": [
    "## Generate additional data\n",
    "Many of the labels are under-represented, so we generate additional data here. Here we try to ensure that each class has at least 2000 samples.  For each under-represented class, we generate additional images by randomly selecting an image from the class and apply a random scale and rotation on the image."
   ]
  },
  {
   "cell_type": "code",
   "execution_count": 42,
   "metadata": {},
   "outputs": [],
   "source": [
    "#Make original train and valid datasets available with other variables\n",
    "X_train_orig, y_train_orig = train['features'], train['labels']\n",
    "X_valid_orig, y_valid_orig = valid['features'], valid['labels']\n",
    "X_test_orig, y_test_orig = test['features'], test['labels']\n",
    "\n",
    "#Concatenate original valid and train datasets so we don't lose good labeled data.  We'll recreate a new validation\n",
    "#split given generated data.\n",
    "X_train = np.append(X_train,X_valid,axis=0)\n",
    "y_train = np.append(y_train,y_valid,axis=0)"
   ]
  },
  {
   "cell_type": "code",
   "execution_count": 43,
   "metadata": {},
   "outputs": [],
   "source": [
    "#generates a derived image by applying a randomized rotation and scale\n",
    "def transformImage(img):\n",
    "    c = (img.shape[0]/2.0,img.shape[1]/2.0)\n",
    "    r = random.randint(-15,15) #rotate randomly from -15 to 15 degrees\n",
    "    s = random.uniform(0.8,1.2) #scale randomly from 0.8 to 1.2 factor\n",
    "    M = cv2.getRotationMatrix2D(c,r,s)\n",
    "    return cv2.warpAffine(img,M,dsize=(32,32),borderValue=(128,128,128))\n",
    "\n",
    "def generateMoreImagesForKlass(X,y,klass):\n",
    "    n = np.where(y==klass)[0]\n",
    "    l = len(n)\n",
    "    X_new = []\n",
    "    y_new = []\n",
    "    if l < 2000:\n",
    "        print('Adding ', 2000-l, ' for class: ', signnames[klass])\n",
    "        for c in range(2000-l):\n",
    "            i = n[random.randint(0,l-1)]\n",
    "            newImage = transformImage(X[i])\n",
    "            X_new.append(newImage)\n",
    "            y_new.append(klass)\n",
    "        X = np.append(X,X_new,axis=0)\n",
    "        y = np.append(y,y_new,axis=0)\n",
    "    else:\n",
    "        print(\"We have enough for class: \", signnames[klass])\n",
    "    return X,y\n",
    "\n",
    "def generateMoreImages(X,y):\n",
    "    for i in range(n_classes):\n",
    "        X,y = generateMoreImagesForKlass(X,y,i)\n",
    "    return X,y"
   ]
  },
  {
   "cell_type": "code",
   "execution_count": 44,
   "metadata": {
    "scrolled": false
   },
   "outputs": [
    {
     "name": "stdout",
     "output_type": "stream",
     "text": [
      "Adding  1790  for class:  Speed limit (20km/h)\n",
      "We have enough for class:  Speed limit (30km/h)\n",
      "We have enough for class:  Speed limit (50km/h)\n",
      "Adding  590  for class:  Speed limit (60km/h)\n",
      "Adding  20  for class:  Speed limit (70km/h)\n",
      "Adding  140  for class:  Speed limit (80km/h)\n",
      "Adding  1580  for class:  End of speed limit (80km/h)\n",
      "Adding  560  for class:  Speed limit (100km/h)\n",
      "Adding  590  for class:  Speed limit (120km/h)\n",
      "Adding  530  for class:  No passing\n",
      "We have enough for class:  No passing for vehicles over 3.5 metric tons\n",
      "Adding  680  for class:  Right-of-way at the next intersection\n",
      "We have enough for class:  Priority road\n",
      "We have enough for class:  Yield\n",
      "Adding  1220  for class:  Stop\n",
      "Adding  1370  for class:  No vehicles\n",
      "Adding  1580  for class:  Vehicles over 3.5 metric tons prohibited\n",
      "Adding  890  for class:  No entry\n",
      "Adding  800  for class:  General caution\n",
      "Adding  1790  for class:  Dangerous curve to the left\n",
      "Adding  1640  for class:  Dangerous curve to the right\n",
      "Adding  1670  for class:  Double curve\n",
      "Adding  1610  for class:  Bumpy road\n",
      "Adding  1490  for class:  Slippery road\n",
      "Adding  1730  for class:  Road narrows on the right\n",
      "Adding  500  for class:  Road work\n",
      "Adding  1400  for class:  Traffic signals\n",
      "Adding  1760  for class:  Pedestrians\n",
      "Adding  1460  for class:  Children crossing\n",
      "Adding  1730  for class:  Bicycles crossing\n",
      "Adding  1550  for class:  Beware of ice/snow\n",
      "Adding  1220  for class:  Wild animals crossing\n",
      "Adding  1760  for class:  End of all speed and passing limits\n",
      "Adding  1311  for class:  Turn right ahead\n",
      "Adding  1580  for class:  Turn left ahead\n",
      "Adding  800  for class:  Ahead only\n",
      "Adding  1610  for class:  Go straight or right\n",
      "Adding  1790  for class:  Go straight or left\n",
      "We have enough for class:  Keep right\n",
      "Adding  1700  for class:  Keep left\n",
      "Adding  1640  for class:  Roundabout mandatory\n",
      "Adding  1760  for class:  End of no passing\n",
      "Adding  1760  for class:  End of no passing by vehicles over 3.5 metric tons\n"
     ]
    }
   ],
   "source": [
    "X_train,y_train = generateMoreImages(X_train,y_train)"
   ]
  },
  {
   "cell_type": "code",
   "execution_count": 45,
   "metadata": {},
   "outputs": [],
   "source": [
    "# Given augmented training set let's care out a validation set to use during training\n",
    "from sklearn.model_selection import train_test_split\n",
    "X_train, X_valid, y_train, y_valid = train_test_split(X_train, y_train, test_size=0.1)"
   ]
  },
  {
   "cell_type": "code",
   "execution_count": 46,
   "metadata": {},
   "outputs": [
    {
     "data": {
      "image/png": "[encoded data removed]",
      "text/plain": [
       "<matplotlib.figure.Figure at 0x7f347d9e8208>"
      ]
     },
     "metadata": {
      "needs_background": "light"
     },
     "output_type": "display_data"
    },
    {
     "data": {
      "image/png": "[encoded data removed]",
      "text/plain": [
       "<matplotlib.figure.Figure at 0x7f349aff36a0>"
      ]
     },
     "metadata": {
      "needs_background": "light"
     },
     "output_type": "display_data"
    },
    {
     "data": {
      "image/png": "[encoded data removed]",
      "text/plain": [
       "<matplotlib.figure.Figure at 0x7f347d6c7470>"
      ]
     },
     "metadata": {
      "needs_background": "light"
     },
     "output_type": "display_data"
    }
   ],
   "source": [
    "unique_train, counts_train = np.unique(y_train, return_counts=True)\n",
    "plt.bar(unique_train, counts_train)\n",
    "plt.grid()\n",
    "plt.title(\"Train Dataset Sign Counts\")\n",
    "plt.show()\n",
    "\n",
    "unique_valid, counts_valid = np.unique(y_valid, return_counts=True)\n",
    "plt.bar(unique_valid, counts_valid)\n",
    "plt.grid()\n",
    "plt.title(\"Valid Dataset Sign Counts\")\n",
    "plt.show()\n",
    "\n",
    "unique_test, counts_test = np.unique(y_test, return_counts=True)\n",
    "plt.bar(unique_test, counts_test)\n",
    "plt.grid()\n",
    "plt.title(\"Test Dataset Sign Counts\")\n",
    "plt.show()"
   ]
  },
  {
   "cell_type": "markdown",
   "metadata": {},
   "source": [
    "----\n",
    "\n",
    "## Step 2: Design and Test a Model Architecture\n",
    "\n",
    "Design and implement a deep learning model that learns to recognize traffic signs. Train and test your model on the [German Traffic Sign Dataset](http://benchmark.ini.rub.de/?section=gtsrb&subsection=dataset).\n",
    "\n",
    "The LeNet-5 implementation shown in the [classroom](https://classroom.udacity.com/nanodegrees/nd013/parts/fbf77062-5703-404e-b60c-95b78b2f3f9e/modules/6df7ae49-c61c-4bb2-a23e-6527e69209ec/lessons/601ae704-1035-4287-8b11-e2c2716217ad/concepts/d4aca031-508f-4e0b-b493-e7b706120f81) at the end of the CNN lesson is a solid starting point. You'll have to change the number of classes and possibly the preprocessing, but aside from that it's plug and play! \n",
    "\n",
    "With the LeNet-5 solution from the lecture, you should expect a validation set accuracy of about 0.89. To meet specifications, the validation set accuracy will need to be at least 0.93. It is possible to get an even higher accuracy, but 0.93 is the minimum for a successful project submission. \n",
    "\n",
    "There are various aspects to consider when thinking about this problem:\n",
    "\n",
    "- Neural network architecture (is the network over or underfitting?)\n",
    "- Play around preprocessing techniques (normalization, rgb to grayscale, etc)\n",
    "- Number of examples per label (some have more than others).\n",
    "- Generate fake data.\n",
    "\n",
    "Here is an example of a [published baseline model on this problem](http://yann.lecun.com/exdb/publis/pdf/sermanet-ijcnn-11.pdf). It's not required to be familiar with the approach used in the paper but, it's good practice to try to read papers like these."
   ]
  },
  {
   "cell_type": "markdown",
   "metadata": {},
   "source": [
    "### Pre-process the Data Set (normalization, grayscale, etc.)"
   ]
  },
  {
   "cell_type": "markdown",
   "metadata": {},
   "source": [
    "Minimally, the image data should be normalized so that the data has mean zero and equal variance. For image data, `(pixel - 128)/ 128` is a quick way to approximately normalize the data and can be used in this project. \n",
    "\n",
    "Other pre-processing steps are optional. You can try different techniques to see if it improves performance. \n",
    "\n",
    "Use the code cell (or multiple code cells, if necessary) to implement the first step of your project."
   ]
  },
  {
   "cell_type": "code",
   "execution_count": 47,
   "metadata": {},
   "outputs": [],
   "source": [
    "### Preprocess the data here. It is required to normalize the data. Other preprocessing steps could include \n",
    "### converting to grayscale, etc.\n",
    "### Feel free to use as many code cells as needed."
   ]
  },
  {
   "cell_type": "code",
   "execution_count": 48,
   "metadata": {},
   "outputs": [],
   "source": [
    "#Convert to grayscale\n",
    "X_train_gray = np.sum(X_train//3, axis=3, keepdims=True)\n",
    "X_valid_gray = np.sum(X_valid//3, axis=3, keepdims=True)\n",
    "X_test_gray = np.sum(X_test//3, axis=3,keepdims=True)"
   ]
  },
  {
   "cell_type": "code",
   "execution_count": 49,
   "metadata": {},
   "outputs": [],
   "source": [
    "#Use grayscale from here on out\n",
    "X_train = X_train_gray\n",
    "X_valid = X_valid_gray\n",
    "X_test = X_test_gray"
   ]
  },
  {
   "cell_type": "code",
   "execution_count": 50,
   "metadata": {},
   "outputs": [],
   "source": [
    "# Normalize grayscale pixel data to range from -1.0 to 1.0\n",
    "X_train = (X_train-128.0)/128.0\n",
    "X_valid = (X_valid-128.0)/128.0\n",
    "X_test = (X_test-128.0)/128.0"
   ]
  },
  {
   "cell_type": "markdown",
   "metadata": {},
   "source": [
    "### Model Architecture"
   ]
  },
  {
   "cell_type": "code",
   "execution_count": 51,
   "metadata": {},
   "outputs": [],
   "source": [
    "### Define your architecture here.\n",
    "### Feel free to use as many code cells as needed.\n",
    "from sklearn.utils import shuffle\n",
    "import tensorflow as tf"
   ]
  },
  {
   "cell_type": "code",
   "execution_count": 52,
   "metadata": {},
   "outputs": [
    {
     "data": {
      "text/plain": [
       "\"\\n# LeNet-5 Implementation from Class\\ndef LeNet(x, keep_prob):    \\n    # Arguments used for tf.truncated_normal, randomly defines variables for the weights and biases for each layer\\n    mu = 0\\n    sigma = 0.1\\n    \\n    # TODO: Layer 1: Convolutional. Input = 32x32x1. Output = 28x28x6.\\n    F_W = tf.Variable(tf.truncated_normal([5, 5, 1, 6], mean=mu, stddev=sigma))\\n    F_b = tf.Variable(tf.zeros(6))\\n    x = tf.nn.conv2d(x, F_W, [1,1,1,1], padding='VALID') # fh = 5 size of weights = filter height\\n    x = tf.nn.bias_add(x, F_b)\\n\\n    # TODO: Activation.\\n    x = tf.nn.relu(x)\\n    #x = tf.nn.dropout(x, keep_prob)\\n\\n    # TODO: Pooling. Input = 28x28x6. Output = 14x14x6.\\n    x = tf.nn.max_pool(x, [1,2,2,1], [1,2,2,1], 'VALID')\\n\\n    # TODO: Layer 2: Convolutional. Output = 10x10x16.\\n    F_W = tf.Variable(tf.truncated_normal([5, 5, 6, 16], mean=mu, stddev=sigma))\\n    F_b = tf.Variable(tf.zeros(16))\\n    x = tf.nn.conv2d(x, F_W, [1,1,1,1], padding='VALID') #fh = 5\\n    x = tf.nn.bias_add(x, F_b)\\n    \\n    # TODO: Activation.\\n    x = tf.nn.relu(x)\\n    #x = tf.nn.dropout(x, keep_prob)    \\n\\n    # TODO: Pooling. Input = 10x10x16. Output = 5x5x16.\\n    x = tf.nn.max_pool(x, [1,2,2,1], [1,2,2,1], 'VALID')\\n\\n    # TODO: Flatten. Input = 5x5x16. Output = 400.\\n    x = flatten(x)\\n    \\n    # TODO: Layer 3: Fully Connected. Input = 400. Output = 120.\\n    F_W = tf.Variable(tf.truncated_normal([400,120], mean=mu, stddev=sigma))\\n    F_b = tf.Variable(tf.zeros(120))\\n    x = tf.add(tf.matmul(x, F_W), F_b)\\n    \\n    # TODO: Activation.\\n    x = tf.nn.relu(x)\\n    #x = tf.nn.dropout(x, keep_prob)\\n\\n    # TODO: Layer 4: Fully Connected. Input = 120. Output = 84.\\n    F_W = tf.Variable(tf.truncated_normal([120,84], mean=mu, stddev=sigma))\\n    F_b = tf.Variable(tf.zeros(84))\\n    x = tf.add(tf.matmul(x, F_W), F_b)\\n    \\n    # TODO: Activation.\\n    x = tf.nn.relu(x)\\n    #x = tf.nn.dropout(x, keep_prob)\\n\\n    # TODO: Layer 5: Fully Connected. Input = 84. Output = 43.  # number of traffic sign classes\\n    F_W = tf.Variable(tf.truncated_normal([84,43], mean=mu, stddev=sigma))\\n    F_b = tf.Variable(tf.zeros(43))\\n    x = tf.add(tf.matmul(x, F_W), F_b)\\n    \\n    logits = x\\n    \\n    return logits\\n\""
      ]
     },
     "execution_count": 52,
     "metadata": {},
     "output_type": "execute_result"
    }
   ],
   "source": [
    "from tensorflow.contrib.layers import flatten\n",
    "\"\"\"\n",
    "# LeNet-5 Implementation from Class\n",
    "def LeNet(x, keep_prob):    \n",
    "    # Arguments used for tf.truncated_normal, randomly defines variables for the weights and biases for each layer\n",
    "    mu = 0\n",
    "    sigma = 0.1\n",
    "    \n",
    "    # TODO: Layer 1: Convolutional. Input = 32x32x1. Output = 28x28x6.\n",
    "    F_W = tf.Variable(tf.truncated_normal([5, 5, 1, 6], mean=mu, stddev=sigma))\n",
    "    F_b = tf.Variable(tf.zeros(6))\n",
    "    x = tf.nn.conv2d(x, F_W, [1,1,1,1], padding='VALID') # fh = 5 size of weights = filter height\n",
    "    x = tf.nn.bias_add(x, F_b)\n",
    "\n",
    "    # TODO: Activation.\n",
    "    x = tf.nn.relu(x)\n",
    "    #x = tf.nn.dropout(x, keep_prob)\n",
    "\n",
    "    # TODO: Pooling. Input = 28x28x6. Output = 14x14x6.\n",
    "    x = tf.nn.max_pool(x, [1,2,2,1], [1,2,2,1], 'VALID')\n",
    "\n",
    "    # TODO: Layer 2: Convolutional. Output = 10x10x16.\n",
    "    F_W = tf.Variable(tf.truncated_normal([5, 5, 6, 16], mean=mu, stddev=sigma))\n",
    "    F_b = tf.Variable(tf.zeros(16))\n",
    "    x = tf.nn.conv2d(x, F_W, [1,1,1,1], padding='VALID') #fh = 5\n",
    "    x = tf.nn.bias_add(x, F_b)\n",
    "    \n",
    "    # TODO: Activation.\n",
    "    x = tf.nn.relu(x)\n",
    "    #x = tf.nn.dropout(x, keep_prob)    \n",
    "\n",
    "    # TODO: Pooling. Input = 10x10x16. Output = 5x5x16.\n",
    "    x = tf.nn.max_pool(x, [1,2,2,1], [1,2,2,1], 'VALID')\n",
    "\n",
    "    # TODO: Flatten. Input = 5x5x16. Output = 400.\n",
    "    x = flatten(x)\n",
    "    \n",
    "    # TODO: Layer 3: Fully Connected. Input = 400. Output = 120.\n",
    "    F_W = tf.Variable(tf.truncated_normal([400,120], mean=mu, stddev=sigma))\n",
    "    F_b = tf.Variable(tf.zeros(120))\n",
    "    x = tf.add(tf.matmul(x, F_W), F_b)\n",
    "    \n",
    "    # TODO: Activation.\n",
    "    x = tf.nn.relu(x)\n",
    "    #x = tf.nn.dropout(x, keep_prob)\n",
    "\n",
    "    # TODO: Layer 4: Fully Connected. Input = 120. Output = 84.\n",
    "    F_W = tf.Variable(tf.truncated_normal([120,84], mean=mu, stddev=sigma))\n",
    "    F_b = tf.Variable(tf.zeros(84))\n",
    "    x = tf.add(tf.matmul(x, F_W), F_b)\n",
    "    \n",
    "    # TODO: Activation.\n",
    "    x = tf.nn.relu(x)\n",
    "    #x = tf.nn.dropout(x, keep_prob)\n",
    "\n",
    "    # TODO: Layer 5: Fully Connected. Input = 84. Output = 43.  # number of traffic sign classes\n",
    "    F_W = tf.Variable(tf.truncated_normal([84,43], mean=mu, stddev=sigma))\n",
    "    F_b = tf.Variable(tf.zeros(43))\n",
    "    x = tf.add(tf.matmul(x, F_W), F_b)\n",
    "    \n",
    "    logits = x\n",
    "    \n",
    "    return logits\n",
    "\"\"\""
   ]
  },
  {
   "cell_type": "code",
   "execution_count": 53,
   "metadata": {},
   "outputs": [],
   "source": [
    "# Modified LeNet inspired by LeCun's paper (Used for submission)\n",
    "# * Adds an additional convolutional layer\n",
    "# * The fully connected layer takes input from both layer2 and layer3\n",
    "# * Leverages dropout\n",
    "\n",
    "def LeNet2(x):    \n",
    "    # Hyperparameters\n",
    "    mu = 0\n",
    "    sigma = 0.1\n",
    "    \n",
    "    # Layer 1: Convolutional. Input = 32x32x1. Output = 28x28x6.\n",
    "    F_W = tf.Variable(tf.truncated_normal(shape=(5, 5, 1, 6), mean = mu, stddev = sigma))\n",
    "    F_b = tf.Variable(tf.zeros(6))\n",
    "    x = tf.nn.conv2d(x, F_W, strides=[1, 1, 1, 1], padding='VALID')\n",
    "    x = tf.nn.bias_add(x, F_b)\n",
    "\n",
    "    # Activation.\n",
    "    x = tf.nn.relu(x)\n",
    "    \n",
    "    # Pooling. Input = 28x28x6. Output = 14x14x6.\n",
    "    x = tf.nn.max_pool(x, ksize=[1, 2, 2, 1], strides=[1, 2, 2, 1], padding='VALID')\n",
    "    \n",
    "    # Layer 2: Convolutional. Output = 10x10x16.\n",
    "    F_W = tf.Variable(tf.truncated_normal(shape=(5, 5, 6, 16), mean = mu, stddev = sigma))\n",
    "    F_b = tf.Variable(tf.zeros(16))\n",
    "    x = tf.nn.conv2d(x, F_W, strides=[1, 1, 1, 1], padding='VALID')\n",
    "    x = tf.nn.bias_add(x, F_b)\n",
    "                     \n",
    "    # Activation.\n",
    "    x = tf.nn.relu(x)\n",
    "\n",
    "    # Pooling. Input = 10x10x16. Output = 5x5x16.\n",
    "    x = tf.nn.max_pool(x, ksize=[1, 2, 2, 1], strides=[1, 2, 2, 1], padding='VALID')\n",
    "    layer2 = x    \n",
    "    \n",
    "    # Layer 3: Convolutional. Output = 1x1x400.\n",
    "    F_W = tf.Variable(tf.truncated_normal(shape=(5, 5, 16, 400), mean = mu, stddev = sigma))\n",
    "    F_b = tf.Variable(tf.zeros(400))\n",
    "    x = tf.nn.conv2d(x, F_W, strides=[1, 1, 1, 1], padding='VALID')\n",
    "    x = tf.nn.bias_add(x, F_b)\n",
    "                     \n",
    "    # Activation.\n",
    "    x = tf.nn.relu(x)\n",
    "    layer3 = x\n",
    "\n",
    "    # Flatten. Input = 5x5x16. Output = 400.\n",
    "    layer2_flat = flatten(layer2)\n",
    "    \n",
    "    # Flatten x. Input = 1x1x400. Output = 400.\n",
    "    layer3_flat = flatten(layer3)\n",
    "    \n",
    "    # Concat layer2flat and x. Input = 400 + 400. Output = 800\n",
    "    x = tf.concat([layer3_flat, layer2_flat], 1)\n",
    "    \n",
    "    # Dropout\n",
    "    x = tf.nn.dropout(x, keep_prob)\n",
    "    \n",
    "    # Layer 4: Fully Connected. Input = 800. Output = 43.\n",
    "    F_W = tf.Variable(tf.truncated_normal(shape=(800, 43), mean = mu, stddev = sigma))\n",
    "    F_b = tf.Variable(tf.zeros(43))    \n",
    "    x = tf.add(tf.matmul(x, F_W), F_b)\n",
    "    \n",
    "    logits = x\n",
    "    \n",
    "    return logits\n"
   ]
  },
  {
   "cell_type": "code",
   "execution_count": 54,
   "metadata": {},
   "outputs": [],
   "source": [
    "x = tf.placeholder(tf.float32, (None, 32, 32, 1), name='x')\n",
    "y = tf.placeholder(tf.int32, (None), name='y')\n",
    "one_hot_y = tf.one_hot(y, 43)\n",
    "\n",
    "keep_prob = tf.placeholder(tf.float32, name='keep_prob') # probability to keep units"
   ]
  },
  {
   "cell_type": "code",
   "execution_count": 55,
   "metadata": {},
   "outputs": [],
   "source": [
    "#rate = 0.001\n",
    "rate = 0.0009\n",
    "\n",
    "logits = LeNet2(x)\n",
    "cross_entropy = tf.nn.softmax_cross_entropy_with_logits(labels=one_hot_y, logits=logits)\n",
    "loss_operation = tf.reduce_mean(cross_entropy)\n",
    "optimizer = tf.train.AdamOptimizer(learning_rate = rate)\n",
    "training_operation = optimizer.minimize(loss_operation)"
   ]
  },
  {
   "cell_type": "markdown",
   "metadata": {},
   "source": [
    "### Train, Validate and Test the Model"
   ]
  },
  {
   "cell_type": "markdown",
   "metadata": {},
   "source": [
    "A validation set can be used to assess how well the model is performing. A low accuracy on the training and validation\n",
    "sets imply underfitting. A high accuracy on the training set but low accuracy on the validation set implies overfitting."
   ]
  },
  {
   "cell_type": "code",
   "execution_count": 56,
   "metadata": {},
   "outputs": [],
   "source": [
    "### Train your model here.\n",
    "### Calculate and report the accuracy on the training and validation set.\n",
    "### Once a final model architecture is selected, \n",
    "### the accuracy on the test set should be calculated and reported as well.\n",
    "### Feel free to use as many code cells as needed."
   ]
  },
  {
   "cell_type": "code",
   "execution_count": 57,
   "metadata": {},
   "outputs": [],
   "source": [
    "EPOCHS = 50\n",
    "BATCH_SIZE = 100"
   ]
  },
  {
   "cell_type": "code",
   "execution_count": 58,
   "metadata": {},
   "outputs": [],
   "source": [
    "correct_prediction = tf.equal(tf.argmax(logits, 1), tf.argmax(one_hot_y, 1))\n",
    "accuracy_operation = tf.reduce_mean(tf.cast(correct_prediction, tf.float32))\n",
    "saver = tf.train.Saver()\n",
    "\n",
    "def evaluate(X_data, y_data):\n",
    "    num_examples = len(X_data)\n",
    "    total_accuracy = 0\n",
    "    sess = tf.get_default_session()\n",
    "    for offset in range(0, num_examples, BATCH_SIZE):\n",
    "        batch_x, batch_y = X_data[offset:offset+BATCH_SIZE], y_data[offset:offset+BATCH_SIZE]\n",
    "        accuracy = sess.run(accuracy_operation, feed_dict={x: batch_x, y: batch_y, keep_prob:1.0})\n",
    "        total_accuracy += (accuracy * len(batch_x))\n",
    "    return total_accuracy / num_examples"
   ]
  },
  {
   "cell_type": "code",
   "execution_count": 59,
   "metadata": {
    "scrolled": false
   },
   "outputs": [
    {
     "name": "stdout",
     "output_type": "stream",
     "text": [
      "Training...\n",
      "\n",
      "EPOCH 1 ...\n",
      "Validation Accuracy = 0.946\n",
      "\n",
      "EPOCH 2 ...\n",
      "Validation Accuracy = 0.973\n",
      "\n",
      "EPOCH 3 ...\n",
      "Validation Accuracy = 0.983\n",
      "\n",
      "EPOCH 4 ...\n",
      "Validation Accuracy = 0.988\n",
      "\n",
      "EPOCH 5 ...\n",
      "Validation Accuracy = 0.987\n",
      "\n",
      "EPOCH 6 ...\n",
      "Validation Accuracy = 0.989\n",
      "\n",
      "EPOCH 7 ...\n",
      "Validation Accuracy = 0.991\n",
      "\n",
      "EPOCH 8 ...\n",
      "Validation Accuracy = 0.990\n",
      "\n",
      "EPOCH 9 ...\n",
      "Validation Accuracy = 0.992\n",
      "\n",
      "EPOCH 10 ...\n",
      "Validation Accuracy = 0.991\n",
      "\n",
      "EPOCH 11 ...\n",
      "Validation Accuracy = 0.994\n",
      "\n",
      "EPOCH 12 ...\n",
      "Validation Accuracy = 0.990\n",
      "\n",
      "EPOCH 13 ...\n",
      "Validation Accuracy = 0.994\n",
      "\n",
      "EPOCH 14 ...\n",
      "Validation Accuracy = 0.994\n",
      "\n",
      "EPOCH 15 ...\n",
      "Validation Accuracy = 0.993\n",
      "\n",
      "EPOCH 16 ...\n",
      "Validation Accuracy = 0.994\n",
      "\n",
      "EPOCH 17 ...\n",
      "Validation Accuracy = 0.993\n",
      "\n",
      "EPOCH 18 ...\n",
      "Validation Accuracy = 0.994\n",
      "\n",
      "EPOCH 19 ...\n",
      "Validation Accuracy = 0.994\n",
      "\n",
      "EPOCH 20 ...\n",
      "Validation Accuracy = 0.995\n",
      "\n",
      "EPOCH 21 ...\n",
      "Validation Accuracy = 0.993\n",
      "\n",
      "EPOCH 22 ...\n",
      "Validation Accuracy = 0.996\n",
      "\n",
      "EPOCH 23 ...\n",
      "Validation Accuracy = 0.994\n",
      "\n",
      "EPOCH 24 ...\n",
      "Validation Accuracy = 0.994\n",
      "\n",
      "EPOCH 25 ...\n",
      "Validation Accuracy = 0.994\n",
      "\n",
      "EPOCH 26 ...\n",
      "Validation Accuracy = 0.995\n",
      "\n",
      "EPOCH 27 ...\n",
      "Validation Accuracy = 0.995\n",
      "\n",
      "EPOCH 28 ...\n",
      "Validation Accuracy = 0.996\n",
      "\n",
      "EPOCH 29 ...\n",
      "Validation Accuracy = 0.995\n",
      "\n",
      "EPOCH 30 ...\n",
      "Validation Accuracy = 0.995\n",
      "\n",
      "EPOCH 31 ...\n",
      "Validation Accuracy = 0.995\n",
      "\n",
      "EPOCH 32 ...\n",
      "Validation Accuracy = 0.996\n",
      "\n",
      "EPOCH 33 ...\n",
      "Validation Accuracy = 0.995\n",
      "\n",
      "EPOCH 34 ...\n",
      "Validation Accuracy = 0.996\n",
      "\n",
      "EPOCH 35 ...\n",
      "Validation Accuracy = 0.997\n",
      "\n",
      "EPOCH 36 ...\n",
      "Validation Accuracy = 0.996\n",
      "\n",
      "EPOCH 37 ...\n",
      "Validation Accuracy = 0.994\n",
      "\n",
      "EPOCH 38 ...\n",
      "Validation Accuracy = 0.994\n",
      "\n",
      "EPOCH 39 ...\n",
      "Validation Accuracy = 0.993\n",
      "\n",
      "EPOCH 40 ...\n",
      "Validation Accuracy = 0.997\n",
      "\n",
      "EPOCH 41 ...\n",
      "Validation Accuracy = 0.994\n",
      "\n",
      "EPOCH 42 ...\n",
      "Validation Accuracy = 0.996\n",
      "\n",
      "EPOCH 43 ...\n",
      "Validation Accuracy = 0.996\n",
      "\n",
      "EPOCH 44 ...\n",
      "Validation Accuracy = 0.995\n",
      "\n",
      "EPOCH 45 ...\n",
      "Validation Accuracy = 0.996\n",
      "\n",
      "EPOCH 46 ...\n",
      "Validation Accuracy = 0.995\n",
      "\n",
      "EPOCH 47 ...\n",
      "Validation Accuracy = 0.996\n",
      "\n",
      "EPOCH 48 ...\n",
      "Validation Accuracy = 0.996\n",
      "\n",
      "EPOCH 49 ...\n",
      "Validation Accuracy = 0.996\n",
      "\n",
      "EPOCH 50 ...\n",
      "Validation Accuracy = 0.996\n",
      "\n",
      "Model saved\n"
     ]
    }
   ],
   "source": [
    "with tf.Session() as sess:\n",
    "    sess.run(tf.global_variables_initializer())\n",
    "    num_examples = len(X_train)\n",
    "    \n",
    "    print(\"Training...\")\n",
    "    print()\n",
    "    validation_accuracy_history = []\n",
    "    for i in range(EPOCHS):\n",
    "        X_train, y_train = shuffle(X_train, y_train)\n",
    "        for offset in range(0, num_examples, BATCH_SIZE):\n",
    "            end = offset + BATCH_SIZE\n",
    "            batch_x, batch_y = X_train[offset:end], y_train[offset:end]\n",
    "            sess.run(training_operation, feed_dict={x: batch_x, y: batch_y, keep_prob:0.75})\n",
    "            \n",
    "        validation_accuracy = evaluate(X_valid, y_valid)\n",
    "        print(\"EPOCH {} ...\".format(i+1))\n",
    "        print(\"Validation Accuracy = {:.3f}\".format(validation_accuracy))\n",
    "        print()\n",
    "        validation_accuracy_history.append(validation_accuracy)\n",
    "        \n",
    "    saver.save(sess, './lenet')\n",
    "    print(\"Model saved\")"
   ]
  },
  {
   "cell_type": "markdown",
   "metadata": {},
   "source": [
    "## Analyze the validation accuracy across epochs"
   ]
  },
  {
   "cell_type": "code",
   "execution_count": 60,
   "metadata": {
    "scrolled": true
   },
   "outputs": [
    {
     "data": {
      "text/plain": [
       "[<matplotlib.lines.Line2D at 0x7f33d34806a0>]"
      ]
     },
     "execution_count": 60,
     "metadata": {},
     "output_type": "execute_result"
    },
    {
     "data": {
      "image/png": "[encoded data removed]",
      "text/plain": [
       "<matplotlib.figure.Figure at 0x7f33d3775828>"
      ]
     },
     "metadata": {
      "needs_background": "light"
     },
     "output_type": "display_data"
    }
   ],
   "source": [
    "plt.plot(validation_accuracy_history)"
   ]
  },
  {
   "cell_type": "code",
   "execution_count": 61,
   "metadata": {},
   "outputs": [
    {
     "name": "stdout",
     "output_type": "stream",
     "text": [
      "INFO:tensorflow:Restoring parameters from ./lenet\n",
      "Test Accuracy = 0.940\n"
     ]
    }
   ],
   "source": [
    "with tf.Session() as sess:\n",
    "    saver.restore(sess, './lenet')\n",
    "\n",
    "    test_accuracy = evaluate(X_test_gray, y_test)\n",
    "    print(\"Test Accuracy = {:.3f}\".format(test_accuracy))"
   ]
  },
  {
   "cell_type": "markdown",
   "metadata": {},
   "source": [
    "## Look at some images that are not predicted correctly"
   ]
  },
  {
   "cell_type": "code",
   "execution_count": 62,
   "metadata": {
    "scrolled": false
   },
   "outputs": [
    {
     "name": "stdout",
     "output_type": "stream",
     "text": [
      "INFO:tensorflow:Restoring parameters from ./lenet\n"
     ]
    }
   ],
   "source": [
    "failed = []\n",
    "failed_class = []\n",
    "with tf.Session() as sess:\n",
    "    saver.restore(sess, './lenet')    \n",
    "    for i in range(len(X_test)):\n",
    "        activation = logits.eval(session=sess,feed_dict={x : [X_test[i]], keep_prob:1.0})\n",
    "        if y_test[i] != np.argmax(activation):\n",
    "            failed.append(i)\n",
    "            failed_class.append(np.argmax(activation))"
   ]
  },
  {
   "cell_type": "code",
   "execution_count": 63,
   "metadata": {
    "scrolled": false
   },
   "outputs": [
    {
     "data": {
      "image/png": "[encoded data removed]",
      "text/plain": [
       "<matplotlib.figure.Figure at 0x7f340572fb38>"
      ]
     },
     "metadata": {
      "needs_background": "light"
     },
     "output_type": "display_data"
    },
    {
     "name": "stdout",
     "output_type": "stream",
     "text": [
      "Actual Label: Speed limit (70km/h)\n",
      "Mispredicted Label: Traffic signals\n"
     ]
    },
    {
     "data": {
      "image/png": "[encoded data removed]",
      "text/plain": [
       "<matplotlib.figure.Figure at 0x7f347d6b6470>"
      ]
     },
     "metadata": {
      "needs_background": "light"
     },
     "output_type": "display_data"
    },
    {
     "name": "stdout",
     "output_type": "stream",
     "text": [
      "Actual Label: Priority road\n",
      "Mispredicted Label: Traffic signals\n"
     ]
    },
    {
     "data": {
      "image/png": "[encoded data removed]",
      "text/plain": [
       "<matplotlib.figure.Figure at 0x7f34046ca710>"
      ]
     },
     "metadata": {
      "needs_background": "light"
     },
     "output_type": "display_data"
    },
    {
     "name": "stdout",
     "output_type": "stream",
     "text": [
      "Actual Label: No entry\n",
      "Mispredicted Label: Pedestrians\n"
     ]
    },
    {
     "data": {
      "image/png": "[encoded data removed]",
      "text/plain": [
       "<matplotlib.figure.Figure at 0x7f3404646be0>"
      ]
     },
     "metadata": {
      "needs_background": "light"
     },
     "output_type": "display_data"
    },
    {
     "name": "stdout",
     "output_type": "stream",
     "text": [
      "Actual Label: Turn right ahead\n",
      "Mispredicted Label: Pedestrians\n"
     ]
    },
    {
     "data": {
      "image/png": "[encoded data removed]",
      "text/plain": [
       "<matplotlib.figure.Figure at 0x7f340467cdd8>"
      ]
     },
     "metadata": {
      "needs_background": "light"
     },
     "output_type": "display_data"
    },
    {
     "name": "stdout",
     "output_type": "stream",
     "text": [
      "Actual Label: Children crossing\n",
      "Mispredicted Label: Wild animals crossing\n"
     ]
    }
   ],
   "source": [
    "for j in range(5):\n",
    "    i = random.randint(0,len(failed))\n",
    "    plt.imshow((X_test[i].squeeze()+1.0)/2.0, cmap=\"gray\")\n",
    "    plt.show()\n",
    "    print('Actual Label:', signnames[y_test[i]])\n",
    "    print('Mispredicted Label:', signnames[failed_class[i]])"
   ]
  },
  {
   "cell_type": "markdown",
   "metadata": {},
   "source": [
    "---\n",
    "\n",
    "## Step 3: Test a Model on New Images\n",
    "\n",
    "To give yourself more insight into how your model is working, download at least five pictures of German traffic signs from the web and use your model to predict the traffic sign type.\n",
    "\n",
    "You may find `signnames.csv` useful as it contains mappings from the class id (integer) to the actual sign name."
   ]
  },
  {
   "cell_type": "markdown",
   "metadata": {},
   "source": [
    "### Load and Output the Images"
   ]
  },
  {
   "cell_type": "code",
   "execution_count": 64,
   "metadata": {},
   "outputs": [],
   "source": [
    "### Load the images and plot them here.\n",
    "### Feel free to use as many code cells as needed."
   ]
  },
  {
   "cell_type": "markdown",
   "metadata": {},
   "source": [
    "### Predict the Sign Type for Each Image"
   ]
  },
  {
   "cell_type": "code",
   "execution_count": 66,
   "metadata": {},
   "outputs": [],
   "source": [
    "### Run the predictions here and use the model to output the prediction for each image.\n",
    "### Make sure to pre-process the images with the same pre-processing pipeline used earlier.\n",
    "### Feel free to use as many code cells as needed."
   ]
  },
  {
   "cell_type": "code",
   "execution_count": 65,
   "metadata": {},
   "outputs": [
    {
     "name": "stdout",
     "output_type": "stream",
     "text": [
      "INFO:tensorflow:Restoring parameters from ./lenet\n"
     ]
    },
    {
     "data": {
      "image/png": "[encoded data removed]",
      "text/plain": [
       "<matplotlib.figure.Figure at 0x7f33d38660f0>"
      ]
     },
     "metadata": {
      "needs_background": "light"
     },
     "output_type": "display_data"
    },
    {
     "data": {
      "image/png": "[encoded data removed]",
      "text/plain": [
       "<matplotlib.figure.Figure at 0x7f340460f320>"
      ]
     },
     "metadata": {
      "needs_background": "light"
     },
     "output_type": "display_data"
    },
    {
     "data": {
      "image/png": "[encoded data removed]",
      "text/plain": [
       "<matplotlib.figure.Figure at 0x7f340453c2e8>"
      ]
     },
     "metadata": {
      "needs_background": "light"
     },
     "output_type": "display_data"
    },
    {
     "data": {
      "image/png": "[encoded data removed]",
      "text/plain": [
       "<matplotlib.figure.Figure at 0x7f34044b7080>"
      ]
     },
     "metadata": {
      "needs_background": "light"
     },
     "output_type": "display_data"
    },
    {
     "data": {
      "image/png": "[encoded data removed]",
      "text/plain": [
       "<matplotlib.figure.Figure at 0x7f340441d048>"
      ]
     },
     "metadata": {
      "needs_background": "light"
     },
     "output_type": "display_data"
    }
   ],
   "source": [
    "signs = ['bumpy.png','speed30.png','speed60.png','roundabout.png','restricted.png']\n",
    "signs = list(map(lambda x: 'sample_images/'+x,signs))\n",
    "with tf.Session() as sess:\n",
    "    saver.restore(sess, tf.train.latest_checkpoint('.'))    \n",
    "    for s in signs:\n",
    "        img = cv2.imread(s,cv2.IMREAD_COLOR)\n",
    "        img = cv2.cvtColor(img,cv2.COLOR_BGR2RGB)\n",
    "        img = np.sum(img//3,axis=2,keepdims=True)\n",
    "        plt.imshow(img.squeeze(),cmap=\"gray\")\n",
    "        activation = logits.eval(session=sess,feed_dict={x : np.array([img]), keep_prob:1.0})\n",
    "        plt.title(signnames[np.argmax(activation)])\n",
    "        plt.show()\n",
    "    "
   ]
  },
  {
   "cell_type": "markdown",
   "metadata": {},
   "source": [
    "### Analyze Performance\n",
    "100% accuracy achieved on these images"
   ]
  },
  {
   "cell_type": "markdown",
   "metadata": {},
   "source": [
    "### Output Top 5 Softmax Probabilities For Each Image Found on the Web"
   ]
  },
  {
   "cell_type": "markdown",
   "metadata": {},
   "source": [
    "For each of the new images, print out the model's softmax probabilities to show the **certainty** of the model's predictions (limit the output to the top 5 probabilities for each image). [`tf.nn.top_k`](https://www.tensorflow.org/versions/r0.12/api_docs/python/nn.html#top_k) could prove helpful here. \n",
    "\n",
    "The example below demonstrates how tf.nn.top_k can be used to find the top k predictions for each image.\n",
    "\n",
    "`tf.nn.top_k` will return the values and indices (class ids) of the top k predictions. So if k=3, for each sign, it'll return the 3 largest probabilities (out of a possible 43) and the correspoding class ids.\n",
    "\n",
    "Take this numpy array as an example. The values in the array represent predictions. The array contains softmax probabilities for five candidate images with six possible classes. `tf.nn.top_k` is used to choose the three classes with the highest probability:\n",
    "\n",
    "```\n",
    "# (5, 6) array\n",
    "a = np.array([[ 0.24879643,  0.07032244,  0.12641572,  0.34763842,  0.07893497,\n",
    "         0.12789202],\n",
    "       [ 0.28086119,  0.27569815,  0.08594638,  0.0178669 ,  0.18063401,\n",
    "         0.15899337],\n",
    "       [ 0.26076848,  0.23664738,  0.08020603,  0.07001922,  0.1134371 ,\n",
    "         0.23892179],\n",
    "       [ 0.11943333,  0.29198961,  0.02605103,  0.26234032,  0.1351348 ,\n",
    "         0.16505091],\n",
    "       [ 0.09561176,  0.34396535,  0.0643941 ,  0.16240774,  0.24206137,\n",
    "         0.09155967]])\n",
    "```\n",
    "\n",
    "Running it through `sess.run(tf.nn.top_k(tf.constant(a), k=3))` produces:\n",
    "\n",
    "```\n",
    "TopKV2(values=array([[ 0.34763842,  0.24879643,  0.12789202],\n",
    "       [ 0.28086119,  0.27569815,  0.18063401],\n",
    "       [ 0.26076848,  0.23892179,  0.23664738],\n",
    "       [ 0.29198961,  0.26234032,  0.16505091],\n",
    "       [ 0.34396535,  0.24206137,  0.16240774]]), indices=array([[3, 0, 5],\n",
    "       [0, 1, 4],\n",
    "       [0, 5, 1],\n",
    "       [1, 3, 5],\n",
    "       [1, 4, 3]], dtype=int32))\n",
    "```\n",
    "\n",
    "Looking just at the first row we get `[ 0.34763842,  0.24879643,  0.12789202]`, you can confirm these are the 3 largest probabilities in `a`. You'll also notice `[3, 0, 5]` are the corresponding indices."
   ]
  },
  {
   "cell_type": "code",
   "execution_count": 68,
   "metadata": {},
   "outputs": [],
   "source": [
    "### Print out the top five softmax probabilities for the predictions on the German traffic sign images found on the web. \n",
    "### Feel free to use as many code cells as needed."
   ]
  },
  {
   "cell_type": "code",
   "execution_count": 69,
   "metadata": {},
   "outputs": [
    {
     "name": "stdout",
     "output_type": "stream",
     "text": [
      "['sample_images/bumpy.png', 'sample_images/speed30.png', 'sample_images/speed60.png', 'sample_images/roundabout.png', 'sample_images/restricted.png']\n",
      "INFO:tensorflow:Restoring parameters from ./lenet\n"
     ]
    }
   ],
   "source": [
    "signs = ['bumpy.png','speed30.png','speed60.png','roundabout.png','restricted.png']\n",
    "signs = list(map(lambda x: 'sample_images/'+x,signs))\n",
    "print(signs)\n",
    "with tf.Session() as sess:\n",
    "    #sess.run(tf.global_variables_initializer())\n",
    "    #saver = tf.train.import_meta_graph('./lenet.meta')\n",
    "    saver.restore(sess, tf.train.latest_checkpoint('.'))\n",
    "    softmax_logits = tf.nn.softmax(logits)\n",
    "    top_k = tf.nn.top_k(softmax_logits, k=5)\n",
    "    images = []\n",
    "    for s in signs:    \n",
    "        img = cv2.imread(s,cv2.IMREAD_COLOR)\n",
    "        img = cv2.cvtColor(img,cv2.COLOR_BGR2RGB) \n",
    "        img = np.sum(img//3,axis=2,keepdims=True)\n",
    "        images.append(img)\n",
    "    \n",
    "    my_softmax_logits = sess.run(softmax_logits, feed_dict={x: images, keep_prob: 1.0})\n",
    "    my_top_k = sess.run(top_k, feed_dict={x: images, keep_prob: 1.0})"
   ]
  },
  {
   "cell_type": "code",
   "execution_count": 70,
   "metadata": {},
   "outputs": [
    {
     "data": {
      "text/plain": [
       "TopKV2(values=array([[  1.00000000e+00,   0.00000000e+00,   0.00000000e+00,\n",
       "          0.00000000e+00,   0.00000000e+00],\n",
       "       [  1.00000000e+00,   0.00000000e+00,   0.00000000e+00,\n",
       "          0.00000000e+00,   0.00000000e+00],\n",
       "       [  1.00000000e+00,   2.29365138e-11,   0.00000000e+00,\n",
       "          0.00000000e+00,   0.00000000e+00],\n",
       "       [  1.00000000e+00,   0.00000000e+00,   0.00000000e+00,\n",
       "          0.00000000e+00,   0.00000000e+00],\n",
       "       [  1.00000000e+00,   0.00000000e+00,   0.00000000e+00,\n",
       "          0.00000000e+00,   0.00000000e+00]], dtype=float32), indices=array([[22,  0,  1,  2,  3],\n",
       "       [ 1,  0,  2,  3,  4],\n",
       "       [ 3,  5,  0,  1,  2],\n",
       "       [40,  0,  1,  2,  3],\n",
       "       [15,  0,  1,  2,  3]], dtype=int32))"
      ]
     },
     "execution_count": 70,
     "metadata": {},
     "output_type": "execute_result"
    }
   ],
   "source": [
    "my_top_k"
   ]
  },
  {
   "cell_type": "code",
   "execution_count": 71,
   "metadata": {
    "scrolled": false
   },
   "outputs": [
    {
     "data": {
      "text/plain": [
       "'Speed limit (60km/h)'"
      ]
     },
     "execution_count": 71,
     "metadata": {},
     "output_type": "execute_result"
    }
   ],
   "source": [
    "signnames[3]"
   ]
  },
  {
   "cell_type": "markdown",
   "metadata": {},
   "source": [
    "## Top 5 Softmax\n",
    "One image was misclassified the \"Speed limit (60km/h)\" image at index 2.  If we look at the softmax predictions we don't get into the correct prediction until the 4th prediction.  One interesting thing is that the probabilites are all either 0.0 or 1.0."
   ]
  },
  {
   "cell_type": "markdown",
   "metadata": {},
   "source": [
    "### Project Writeup\n",
    "\n",
    "Once you have completed the code implementation, document your results in a project writeup using this [template](https://github.com/udacity/CarND-Traffic-Sign-Classifier-Project/blob/master/writeup_template.md) as a guide. The writeup can be in a markdown or pdf file. "
   ]
  },
  {
   "cell_type": "markdown",
   "metadata": {},
   "source": [
    "> **Note**: Once you have completed all of the code implementations and successfully answered each question above, you may finalize your work by exporting the iPython Notebook as an HTML document. You can do this by using the menu above and navigating to  \\n\",\n",
    "    \"**File -> Download as -> HTML (.html)**. Include the finished document along with this notebook as your submission."
   ]
  },
  {
   "cell_type": "markdown",
   "metadata": {},
   "source": [
    "### Daily Log\n",
    "02/17/2020: finished up with validation 0.89 and test 0.757 - changed from rgb to grayscale\n",
    "\n",
    "02/19/2020: created new image samples (no mods) validation 9.11 but test dropped to 0.697\n",
    "\n",
    "02/19/2020: new image samples with random scale and rotate (same validation though) 0.916; test 0.748\n",
    "\n",
    "02/19/2020: 0.979 validation accuracy... by joining train, valid, test and resplitting with new image samples (no test)\n",
    "\n",
    "02/19/2020: 0.993 validation accuracy; 0.851 test with 100 epochs\n",
    "\n",
    "02/20/2020: 0.992 validation accuracy; 0.857 test with 20 epochs\n",
    "\n",
    "02/20/2020: 0.996 validation accuracy: 0.810 test with 100 epochs\n",
    "\n",
    "02/21/2020: final run; 50 epochs; 0.996 validation accuracy; 0.940 test accuracy\n",
    "\n"
   ]
  },
  {
   "cell_type": "code",
   "execution_count": null,
   "metadata": {},
   "outputs": [],
   "source": []
  }
 ],
 "metadata": {
  "anaconda-cloud": {},
  "kernelspec": {
   "display_name": "Python 3",
   "language": "python",
   "name": "python3"
  },
  "language_info": {
   "codemirror_mode": {
    "name": "ipython",
    "version": 3
   },
   "file_extension": ".py",
   "mimetype": "text/x-python",
   "name": "python",
   "nbconvert_exporter": "python",
   "pygments_lexer": "ipython3",
   "version": "3.6.3"
  }
 },
 "nbformat": 4,
 "nbformat_minor": 1
}
